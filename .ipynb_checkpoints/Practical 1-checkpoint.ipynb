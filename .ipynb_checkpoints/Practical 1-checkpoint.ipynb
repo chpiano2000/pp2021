{
 "cells": [
  {
   "cell_type": "code",
   "execution_count": 1,
   "metadata": {},
   "outputs": [],
   "source": [
    "student_list = []\n",
    "course_list = []\n",
    "\n",
    "def input_function():\n",
    "    stNum = input(\"Number of student \")\n",
    "    for i in range(int(stNum)):\n",
    "        stId = input(\"Student id \")\n",
    "        stName = input(\"Student name \")\n",
    "        stDob = input(\"Student dob \")\n",
    "        student_list.append({'Student name': stName, 'Student id': stId, 'Student DOB': stDob})\n",
    "        \n",
    "    courseNum = input(\"Number of course \")\n",
    "    for i in range(int(courseNum)):\n",
    "        courseId = input(\"Course id \")\n",
    "        courseName = input(\"Course name \")\n",
    "        course_list.append({'Course name': courseName, 'Course id': courseId})\n",
    "        \n",
    "    "
   ]
  },
  {
   "cell_type": "code",
   "execution_count": 2,
   "metadata": {},
   "outputs": [
    {
     "name": "stdout",
     "output_type": "stream",
     "text": [
      "Number of student 2\n",
      "Student id 066\n",
      "Student name dat\n",
      "Student dob 19-11\n",
      "Student id 124\n",
      "Student name aiden\n",
      "Student dob 14-12\n",
      "Number of course 3\n",
      "Course id APP\n",
      "Course name python\n",
      "Course id DSP\n",
      "Course name Signal\n",
      "Course id MAT\n",
      "Course name math\n"
     ]
    }
   ],
   "source": [
    "input_function()"
   ]
  },
  {
   "cell_type": "code",
   "execution_count": 9,
   "metadata": {},
   "outputs": [],
   "source": [
    "student_list[0]['course'] = course_list[0]['Course name']"
   ]
  },
  {
   "cell_type": "code",
   "execution_count": 10,
   "metadata": {},
   "outputs": [
    {
     "data": {
      "text/plain": [
       "[{'Student name': 'dat',\n",
       "  'Student id': '066',\n",
       "  'Student DOB': '19-11',\n",
       "  'course': 'python'},\n",
       " {'Student name': 'aiden', 'Student id': '124', 'Student DOB': '14-12'}]"
      ]
     },
     "execution_count": 10,
     "metadata": {},
     "output_type": "execute_result"
    }
   ],
   "source": [
    "student_list"
   ]
  },
  {
   "cell_type": "code",
   "execution_count": 4,
   "metadata": {},
   "outputs": [
    {
     "data": {
      "text/plain": [
       "[{'Course name': 'python', 'Course id': 'APP'},\n",
       " {'Course name': 'Signal', 'Course id': 'DSP'},\n",
       " {'Course name': 'math', 'Course id': 'MAT'}]"
      ]
     },
     "execution_count": 4,
     "metadata": {},
     "output_type": "execute_result"
    }
   ],
   "source": [
    "course_list"
   ]
  },
  {
   "cell_type": "code",
   "execution_count": null,
   "metadata": {},
   "outputs": [],
   "source": []
  },
  {
   "cell_type": "code",
   "execution_count": 13,
   "metadata": {},
   "outputs": [
    {
     "name": "stdout",
     "output_type": "stream",
     "text": [
      "(0, {'Student name': 'dat', 'Student id': '066', 'Student DOB': '19-11', 'course': 'python'})\n",
      "(1, {'Student name': 'aiden', 'Student id': '124', 'Student DOB': '14-12'})\n"
     ]
    }
   ],
   "source": [
    "for i in enumerate(student_list):\n",
    "    print(i)"
   ]
  },
  {
   "cell_type": "code",
   "execution_count": null,
   "metadata": {},
   "outputs": [],
   "source": []
  }
 ],
 "metadata": {
  "kernelspec": {
   "display_name": "Python 3",
   "language": "python",
   "name": "python3"
  },
  "language_info": {
   "codemirror_mode": {
    "name": "ipython",
    "version": 3
   },
   "file_extension": ".py",
   "mimetype": "text/x-python",
   "name": "python",
   "nbconvert_exporter": "python",
   "pygments_lexer": "ipython3",
   "version": "3.8.5"
  }
 },
 "nbformat": 4,
 "nbformat_minor": 4
}
