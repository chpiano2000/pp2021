{
 "cells": [
  {
   "cell_type": "code",
   "execution_count": 1,
   "metadata": {},
   "outputs": [],
   "source": [
    "import numpy as np\n",
    "import math"
   ]
  },
  {
   "cell_type": "code",
   "execution_count": 2,
   "metadata": {},
   "outputs": [],
   "source": [
    "student_list = []\n",
    "\n",
    "class student:\n",
    "    def __init__(self, stName=\"\", stId=\"\", stDob=\"\", courses=\"\"):\n",
    "        self.stName   = stName\n",
    "        self.stId    = stId\n",
    "        self.stDob    = stDob\n",
    "        self.courses = courses\n",
    "    \n",
    "    def inputSt(self, name, stId, stDob, courses):\n",
    "        st = student(name, stId, stDob, courses)\n",
    "        student_list.append(st)\n",
    "    \n",
    "    def listSt(self, st):\n",
    "        print(f'Name: {st.stName}')\n",
    "        print(f'Id: {st.stId}')\n",
    "        print(f'Date Of Bird: {st.stDob}')\n",
    "        for u, v in st.courses.items():\n",
    "            print(f'Mark for {u}: {v}')\n",
    "        print('*****************\\n')\n",
    "    \n",
    "    def listCourse(self, course_name):\n",
    "        \n",
    "        anotherStList = []\n",
    "        \n",
    "        for i in range(len(student_list)):\n",
    "            for u, v in student_list[i].courses.items():\n",
    "                if course_name == u:\n",
    "                    anotherStList.append(student_list[i].stName)\n",
    "        \n",
    "        print(f'number of student in {course_name}: {len(anotherStList)}')\n",
    "        print('Student list: ')\n",
    "        for i in anotherStList:\n",
    "            print(f'             - {i}')\n",
    "            \n",
    "    def deleteSt(self, name):\n",
    "        for i in range(len(student_list)):\n",
    "            if name == student_list[i].stName:\n",
    "                print(f'student {name} is deleted')\n",
    "                del student_list[i]"
   ]
  },
  {
   "cell_type": "code",
   "execution_count": 3,
   "metadata": {},
   "outputs": [],
   "source": [
    "course_list = []\n",
    "class course:\n",
    "    def __init__(self, courseId=\"\", courseName=\"\"):\n",
    "        self.courseId = courseId\n",
    "        self.courseName = courseName\n",
    "    \n",
    "    def inputCourse(self, courseId, courseName):\n",
    "        c = course(courseId, courseName)\n",
    "        course_list.append(c)\n",
    "        \n",
    "    def courseInfo(self, c):\n",
    "        print(f\"Course Name: {c.courseName}\")\n",
    "        print(f\"Course Id: {c.courseId}\")\n",
    "    \n",
    "    def mark(self, name, courseName, mark):\n",
    "        for i in range(len(student_list)):\n",
    "            if name in student_list[i].stName:\n",
    "                student_list[i].courses[courseName] = math.floor(mark*10)/10"
   ]
  },
  {
   "cell_type": "code",
   "execution_count": 30,
   "metadata": {},
   "outputs": [
    {
     "name": "stdout",
     "output_type": "stream",
     "text": [
      "{'programing with python': 15.3, 'signal': 17.6}\n"
     ]
    }
   ],
   "source": [
    "class GPA:\n",
    "    def __init__(self, name=''):\n",
    "        self.namee = name\n",
    "\n",
    "    def calcGPA(self, name):\n",
    "        ls = []\n",
    "        for i in range(len(student_list)):\n",
    "            if name == student_list[i].stName:\n",
    "                print(student_list[i].courses)\n",
    "                ls.append()\n",
    "                \n",
    "gpa = GPA()\n",
    "gpa.calcGPA('dat')"
   ]
  },
  {
   "cell_type": "code",
   "execution_count": 4,
   "metadata": {},
   "outputs": [
    {
     "name": "stdout",
     "output_type": "stream",
     "text": [
      "Name: Aiden\n",
      "Id: bi10-124\n",
      "Date Of Bird: 2001\n",
      "Mark for programing with python: 13.4\n",
      "Mark for signal: 12.5\n",
      "*****************\n",
      "\n",
      "Name: dat\n",
      "Id: bi9-066\n",
      "Date Of Bird: 1000\n",
      "Mark for programing with python: 15.3\n",
      "Mark for signal: 17.6\n",
      "*****************\n",
      "\n",
      "Name: ngoc anh\n",
      "Id: bi10-010\n",
      "Date Of Bird: 2001\n",
      "Mark for programing with python: 14.5\n",
      "Mark for signal: 15.0\n",
      "*****************\n",
      "\n"
     ]
    }
   ],
   "source": [
    "st = student()\n",
    "st.inputSt('Aiden', 'bi10-124', '2001', {})\n",
    "st.inputSt('dat', 'bi9-066', '1000', {})\n",
    "st.inputSt('ngoc anh', 'bi10-010', '2001', {})\n",
    "\n",
    "m = course('','')\n",
    "m.inputCourse(0, 'programing with python')\n",
    "m.inputCourse(1, 'signal')\n",
    "\n",
    "m.mark('Aiden', 'programing with python', 13.45)\n",
    "m.mark('ngoc anh', 'programing with python', 14.564)\n",
    "m.mark('dat', 'programing with python', 15.345)\n",
    "\n",
    "m.mark('Aiden', 'signal', 12.5)\n",
    "m.mark('ngoc anh', 'signal', 15)\n",
    "m.mark('dat', 'signal', 17.6)\n",
    "\n",
    "for i in range(len(student_list)):\n",
    "    st.listSt(student_list[i])"
   ]
  },
  {
   "cell_type": "code",
   "execution_count": 5,
   "metadata": {},
   "outputs": [
    {
     "name": "stdout",
     "output_type": "stream",
     "text": [
      "Course Name: programing with python\n",
      "Course Id: 0\n",
      "Course Name: signal\n",
      "Course Id: 1\n"
     ]
    }
   ],
   "source": [
    "for i in range(len(course_list)):\n",
    "    m.courseInfo(course_list[i])"
   ]
  },
  {
   "cell_type": "code",
   "execution_count": 8,
   "metadata": {},
   "outputs": [],
   "source": [
    "ls = []\n",
    "for i in range(len(student_list)):\n",
    "    ls.append(student_list[i].courses)"
   ]
  },
  {
   "cell_type": "code",
   "execution_count": 22,
   "metadata": {},
   "outputs": [],
   "source": [
    "a = np.array([list(i.values()) for i in ls])\n",
    "b = np.array([3, 5])\n",
    "g = a.dot(b)/sum(b)"
   ]
  },
  {
   "cell_type": "code",
   "execution_count": null,
   "metadata": {},
   "outputs": [],
   "source": []
  }
 ],
 "metadata": {
  "kernelspec": {
   "display_name": "Python 3",
   "language": "python",
   "name": "python3"
  },
  "language_info": {
   "codemirror_mode": {
    "name": "ipython",
    "version": 3
   },
   "file_extension": ".py",
   "mimetype": "text/x-python",
   "name": "python",
   "nbconvert_exporter": "python",
   "pygments_lexer": "ipython3",
   "version": "3.8.5"
  }
 },
 "nbformat": 4,
 "nbformat_minor": 4
}
