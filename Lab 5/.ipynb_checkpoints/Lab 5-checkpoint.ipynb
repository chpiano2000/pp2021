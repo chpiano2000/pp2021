{
 "cells": [
  {
   "cell_type": "code",
   "execution_count": 31,
   "metadata": {},
   "outputs": [],
   "source": [
    "class Input:\n",
    "    def __init__(self, stName=\"\", stId=\"\", stDob=\"\", courses=\"\"):\n",
    "        self.stName   = stName\n",
    "        self.stId    = stId\n",
    "        self.stDob    = stDob\n",
    "        self.courses = courses\n",
    "        self.student_list = []\n",
    "\n",
    "    def inputSt(self, name, stId, stDob, courses):\n",
    "        st = Input(name, stId, stDob, courses)\n",
    "        self.student_list.append(st)\n",
    "        \n",
    "    def writeFile(self, a):\n",
    "        for i in a:\n",
    "            with open(\"student.txt\", \"w+\") as f1:\n",
    "                f1.write(\"Name: \"+i.stName+'\\n')\n",
    "                f1.write('Id: '+i.stId+'\\n')\n",
    "                f1.write('Date of birth: '+i.stDob+'\\n')\n",
    "\n",
    "            with open('courses.txt','w+') as f2:\n",
    "                f2.write('Name :'+i.stName+'\\n')\n",
    "                for j in i.courses:\n",
    "                    f2.write('Course:'+j[0]+'\\n')\n",
    "\n",
    "            with open('marks.txt','w+') as f3:\n",
    "                f3.write('Name :'+i.name+'\\n')\n",
    "                for j in i.courses:\n",
    "                    f2.write(f'{j[0]}:'+j[1]+'\\n')\n",
    "\n",
    "    def deleteSt(self, name):\n",
    "        for i in range(len(self.student_list)):\n",
    "            if name == self.student_list[i].stName:\n",
    "                print(f'student {name} is deleted')\n",
    "                del self.student_list[i]"
   ]
  },
  {
   "cell_type": "code",
   "execution_count": 32,
   "metadata": {},
   "outputs": [],
   "source": [
    "class Output:\n",
    "    def __init__(self, student_list=''):\n",
    "        self.student_list = student_list\n",
    "\n",
    "    def listSt(self, student_list):\n",
    "        for i in student_list:\n",
    "            print(f\"Name: {i.stName}\")\n",
    "            print(f\"Id: {i.stId}\")\n",
    "            print(f\"Date Of Birth: {i.stDob}\")\n",
    "            for j in range(len(i.courses)):\n",
    "                print(f\"Marks of {i.courses[j][0]} :\", i.courses[j][1])\n",
    "            print(\"*************************\")"
   ]
  },
  {
   "cell_type": "code",
   "execution_count": 33,
   "metadata": {},
   "outputs": [],
   "source": [
    "st = Input('' ,'', '' ,  0)\n",
    "st.inputSt('dat', 'bi9-066', '2000', (('Advanced Programming ','15'), ('French ','17'), ('Singal ','18')))\n",
    "st.inputSt('Aiden', 'bi10-124', '2001', (('Advanced Programming ','17.5'),('French ','15.25'), ('Singal ','14.25')) )\n",
    "st.inputSt('Na', 'bi10-010', '2001', (('Advanced Programming','16.75'),('French','18.04'), ('Signal', '20')) )"
   ]
  },
  {
   "cell_type": "code",
   "execution_count": 34,
   "metadata": {},
   "outputs": [
    {
     "ename": "AttributeError",
     "evalue": "'Input' object has no attribute 'name'",
     "output_type": "error",
     "traceback": [
      "\u001b[0;31m---------------------------------------------------------------------------\u001b[0m",
      "\u001b[0;31mAttributeError\u001b[0m                            Traceback (most recent call last)",
      "\u001b[0;32m<ipython-input-34-e2fcead4e3c7>\u001b[0m in \u001b[0;36m<module>\u001b[0;34m\u001b[0m\n\u001b[0;32m----> 1\u001b[0;31m \u001b[0mst\u001b[0m\u001b[0;34m.\u001b[0m\u001b[0mwriteFile\u001b[0m\u001b[0;34m(\u001b[0m\u001b[0mst\u001b[0m\u001b[0;34m.\u001b[0m\u001b[0mstudent_list\u001b[0m\u001b[0;34m)\u001b[0m\u001b[0;34m\u001b[0m\u001b[0;34m\u001b[0m\u001b[0m\n\u001b[0m",
      "\u001b[0;32m<ipython-input-31-6c91fc6391d1>\u001b[0m in \u001b[0;36mwriteFile\u001b[0;34m(self, a)\u001b[0m\n\u001b[1;32m     19\u001b[0m \u001b[0;34m\u001b[0m\u001b[0m\n\u001b[1;32m     20\u001b[0m             \u001b[0;32mwith\u001b[0m \u001b[0mopen\u001b[0m\u001b[0;34m(\u001b[0m\u001b[0;34m'courses.txt'\u001b[0m\u001b[0;34m,\u001b[0m\u001b[0;34m'w+'\u001b[0m\u001b[0;34m)\u001b[0m \u001b[0;32mas\u001b[0m \u001b[0mf2\u001b[0m\u001b[0;34m:\u001b[0m\u001b[0;34m\u001b[0m\u001b[0;34m\u001b[0m\u001b[0m\n\u001b[0;32m---> 21\u001b[0;31m                 \u001b[0mf2\u001b[0m\u001b[0;34m.\u001b[0m\u001b[0mwrite\u001b[0m\u001b[0;34m(\u001b[0m\u001b[0;34m'Name :'\u001b[0m\u001b[0;34m+\u001b[0m\u001b[0mi\u001b[0m\u001b[0;34m.\u001b[0m\u001b[0mname\u001b[0m\u001b[0;34m+\u001b[0m\u001b[0;34m'\\n'\u001b[0m\u001b[0;34m)\u001b[0m\u001b[0;34m\u001b[0m\u001b[0;34m\u001b[0m\u001b[0m\n\u001b[0m\u001b[1;32m     22\u001b[0m                 \u001b[0;32mfor\u001b[0m \u001b[0mj\u001b[0m \u001b[0;32min\u001b[0m \u001b[0mi\u001b[0m\u001b[0;34m.\u001b[0m\u001b[0mcourse\u001b[0m\u001b[0;34m:\u001b[0m\u001b[0;34m\u001b[0m\u001b[0;34m\u001b[0m\u001b[0m\n\u001b[1;32m     23\u001b[0m                     \u001b[0mf2\u001b[0m\u001b[0;34m.\u001b[0m\u001b[0mwrite\u001b[0m\u001b[0;34m(\u001b[0m\u001b[0;34m'Course:'\u001b[0m\u001b[0;34m+\u001b[0m\u001b[0mj\u001b[0m\u001b[0;34m[\u001b[0m\u001b[0;36m0\u001b[0m\u001b[0;34m]\u001b[0m\u001b[0;34m+\u001b[0m\u001b[0;34m'\\n'\u001b[0m\u001b[0;34m)\u001b[0m\u001b[0;34m\u001b[0m\u001b[0;34m\u001b[0m\u001b[0m\n",
      "\u001b[0;31mAttributeError\u001b[0m: 'Input' object has no attribute 'name'"
     ]
    }
   ],
   "source": [
    "st.writeFile(st.student_list)"
   ]
  },
  {
   "cell_type": "code",
   "execution_count": null,
   "metadata": {},
   "outputs": [],
   "source": [
    "for content in infos:\n",
    "            with open('students.txt','a+') as f:\n",
    "                f.write('Name :'+content.name+'\\n')\n",
    "                f.write('  Student-ID: '+content.sid+'\\n')\n",
    "                f.write('  Date Of Birth'+content.dob+'\\n')\n",
    "                \n",
    "            with open('courses.txt','a+') as f1:\n",
    "                f1.write('Name :'+content.name+'\\n')\n",
    "                for _ in content.course:\n",
    "                    f1.write('  Course:'+_[0]+'\\n')\n",
    "                \n",
    "            with open('marks.txt','a+') as f2:\n",
    "                f2.write('Name :'+content.name+'\\n')\n",
    "                for _ in content.course:\n",
    "                    f2.write(f'  {_[0]}:'+_[1]+'\\n')"
   ]
  },
  {
   "cell_type": "code",
   "execution_count": 3,
   "metadata": {},
   "outputs": [],
   "source": [
    "f= open(\"guru99.txt\",\"w+\")"
   ]
  },
  {
   "cell_type": "code",
   "execution_count": 4,
   "metadata": {},
   "outputs": [],
   "source": [
    "for i in range(10):\n",
    "     f.write(\"This is line %d\\r\\n\" % (i+1))"
   ]
  },
  {
   "cell_type": "code",
   "execution_count": 5,
   "metadata": {},
   "outputs": [],
   "source": [
    "f.close() "
   ]
  },
  {
   "cell_type": "code",
   "execution_count": null,
   "metadata": {},
   "outputs": [],
   "source": []
  }
 ],
 "metadata": {
  "kernelspec": {
   "display_name": "Python 3",
   "language": "python",
   "name": "python3"
  },
  "language_info": {
   "codemirror_mode": {
    "name": "ipython",
    "version": 3
   },
   "file_extension": ".py",
   "mimetype": "text/x-python",
   "name": "python",
   "nbconvert_exporter": "python",
   "pygments_lexer": "ipython3",
   "version": "3.8.5"
  }
 },
 "nbformat": 4,
 "nbformat_minor": 4
}
