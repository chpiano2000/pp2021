{
 "cells": [
  {
   "cell_type": "code",
   "execution_count": 57,
   "metadata": {},
   "outputs": [],
   "source": [
    "import zipfile, os"
   ]
  },
  {
   "cell_type": "code",
   "execution_count": 58,
   "metadata": {},
   "outputs": [],
   "source": [
    "class Input:\n",
    "    def __init__(self, stName=\"\", stId=\"\", stDob=\"\", courses=\"\"):\n",
    "        self.stName   = stName\n",
    "        self.stId    = stId\n",
    "        self.stDob    = stDob\n",
    "        self.courses = courses\n",
    "        self.student_list = []\n",
    "\n",
    "    def inputSt(self, name, stId, stDob, courses):\n",
    "        st = Input(name, stId, stDob, courses)\n",
    "        self.student_list.append(st)\n",
    "    \n",
    "    def compress(self, nameFile):\n",
    "        list_files = ['students.txt','courses.txt','marks.txt']\n",
    "        \n",
    "        compression = zipfile.ZIP_DEFLATED\n",
    "        z = zipfile.ZipFile(nameFile, mode=\"w\")\n",
    "        \n",
    "        for file in list_files:\n",
    "            z.write(file, file, compress_type=compression)\n",
    "        z.close()\n",
    "        \n",
    "    def decompress(self):\n",
    "        try: \n",
    "            with zipfile.ZipFile(\"students.dat\",\"r\") as zip_ref:\n",
    "                    zip_ref.extractall(\"decompress\")\n",
    "        except Exeption as e:\n",
    "            print('students.dat not found')\n",
    "            print('error :',e)\n",
    "    \n",
    "    def writeFile(self, st):\n",
    "        for i in st:\n",
    "            with open(\"students.txt\", \"a+\") as f1:\n",
    "                f1.write(\"Name: \"+i.stName+'\\n')\n",
    "                f1.write('Id: '+i.stId+'\\n')\n",
    "                f1.write('Date of birth: '+i.stDob+'\\n')\n",
    "\n",
    "            with open('courses.txt','a+') as f2:\n",
    "                f2.write('Name :'+i.stName+'\\n')\n",
    "                for j in i.courses:\n",
    "                    f2.write('Course:'+j[0]+'\\n')\n",
    "\n",
    "            with open('marks.txt','a+') as f3:\n",
    "                f3.write('Name :'+i.stName+'\\n')\n",
    "                for j in i.courses:\n",
    "                    f3.write(f'{j[0]}:'+j[1]+'\\n')\n",
    "        f1.close()\n",
    "        f2.close()\n",
    "        f3.close()\n",
    "                    \n",
    "    def deleteSt(self, name):\n",
    "        for i in range(len(self.student_list)):\n",
    "            if name == self.student_list[i].stName:\n",
    "                print(f'student {name} is deleted')\n",
    "                del self.student_list[i]"
   ]
  },
  {
   "cell_type": "code",
   "execution_count": 59,
   "metadata": {},
   "outputs": [],
   "source": [
    "class Output:\n",
    "    def __init__(self, student_list=''):\n",
    "        self.student_list = student_list\n",
    "\n",
    "    def listSt(self, student_list):\n",
    "        for i in student_list:\n",
    "            print(f\"Name: {i.stName}\")\n",
    "            print(f\"Id: {i.stId}\")\n",
    "            print(f\"Date Of Birth: {i.stDob}\")\n",
    "            for j in range(len(i.courses)):\n",
    "                print(f\"Marks of {i.courses[j][0]} :\", i.courses[j][1])\n",
    "            print(\"*************************\")"
   ]
  },
  {
   "cell_type": "code",
   "execution_count": 60,
   "metadata": {},
   "outputs": [],
   "source": [
    "st = Input('' ,'', '' ,  0)\n",
    "st.inputSt('dat', 'bi9-066', '2000', (('Advanced Programming ','15'), ('French ','17'), ('Singal ','18')))\n",
    "st.inputSt('Aiden', 'bi10-124', '2001', (('Advanced Programming ','17.5'),('French ','15.25'), ('Singal ','14.25')) )\n",
    "st.inputSt('Na', 'bi10-010', '2001', (('Advanced Programming','16.75'),('French','18.04'), ('Signal', '20')) )"
   ]
  },
  {
   "cell_type": "code",
   "execution_count": 61,
   "metadata": {},
   "outputs": [],
   "source": [
    "st.writeFile(st.student_list)"
   ]
  },
  {
   "cell_type": "code",
   "execution_count": 62,
   "metadata": {},
   "outputs": [],
   "source": [
    "st.compress('students.dat')\n",
    "st.decompress()"
   ]
  },
  {
   "cell_type": "code",
   "execution_count": 63,
   "metadata": {},
   "outputs": [
    {
     "name": "stdout",
     "output_type": "stream",
     "text": [
      "Name: dat\n",
      "Id: bi9-066\n",
      "Date Of Birth: 2000\n",
      "Marks of Advanced Programming  : 15\n",
      "Marks of French  : 17\n",
      "Marks of Singal  : 18\n",
      "*************************\n",
      "Name: Aiden\n",
      "Id: bi10-124\n",
      "Date Of Birth: 2001\n",
      "Marks of Advanced Programming  : 17.5\n",
      "Marks of French  : 15.25\n",
      "Marks of Singal  : 14.25\n",
      "*************************\n",
      "Name: Na\n",
      "Id: bi10-010\n",
      "Date Of Birth: 2001\n",
      "Marks of Advanced Programming : 16.75\n",
      "Marks of French : 18.04\n",
      "Marks of Signal : 20\n",
      "*************************\n"
     ]
    }
   ],
   "source": [
    "display = Output()\n",
    "display.listSt(st.student_list)"
   ]
  },
  {
   "cell_type": "code",
   "execution_count": null,
   "metadata": {},
   "outputs": [],
   "source": []
  }
 ],
 "metadata": {
  "kernelspec": {
   "display_name": "Python 3",
   "language": "python",
   "name": "python3"
  },
  "language_info": {
   "codemirror_mode": {
    "name": "ipython",
    "version": 3
   },
   "file_extension": ".py",
   "mimetype": "text/x-python",
   "name": "python",
   "nbconvert_exporter": "python",
   "pygments_lexer": "ipython3",
   "version": "3.8.5"
  }
 },
 "nbformat": 4,
 "nbformat_minor": 4
}
