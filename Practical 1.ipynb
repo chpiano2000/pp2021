{
 "cells": [
  {
   "cell_type": "code",
   "execution_count": 3,
   "metadata": {},
   "outputs": [],
   "source": [
    "student_list = []\n",
    "course_list = []\n",
    "\n",
    "def info():\n",
    "    stNum = input(\"Number of student \")\n",
    "    for i in range(int(stNum)):\n",
    "        stId = input(\"Student id \")\n",
    "        stName = input(\"Student name \")\n",
    "        stDob = input(\"Student dob \")\n",
    "        student_list.append({'Student name': stName, 'Student id': stId, 'Student DOB': stDob})\n",
    "        \n",
    "    courseNum = input(\"Number of course \")\n",
    "    for i in range(int(courseNum)):\n",
    "        courseId = input(\"Course id \")\n",
    "        courseName = input(\"Course name \")\n",
    "        course_list.append({'Course name': courseName, 'Course id': courseId})"
   ]
  },
  {
   "cell_type": "code",
   "execution_count": 4,
   "metadata": {},
   "outputs": [],
   "source": [
    "def add_grad():\n",
    "    for i in student_list:\n",
    "        print(\"for student {} \".format(i['Student name']))\n",
    "        for j in course_list:\n",
    "            i[j['Course name']] = input(\"Mark for {} course \".format(j['Course name']))"
   ]
  },
  {
   "cell_type": "code",
   "execution_count": 64,
   "metadata": {},
   "outputs": [],
   "source": [
    "def listing():\n",
    "    print(\"List of students: \")\n",
    "    for i in student_list:\n",
    "        print('- {}'.format(i['Student name']))\n",
    "\n",
    "    print(\"\\n\")\n",
    "    print(\"List of courses: \")\n",
    "    for i in course_list:\n",
    "        print('- {}'.format(i['Course name']), end=' ')\n",
    "        \n",
    "    print(\"\\n\")\n",
    "    print(\"Mark for a given courses: \")\n",
    "    for i in student_list:\n",
    "        print(\" \")\n",
    "        print(\"- {}: \".format(i['Student name']))\n",
    "        for j in course_list:\n",
    "            print('    + {}'.format(j['Course name']), end=\": \")\n",
    "            print(i[j['Course name']])"
   ]
  },
  {
   "cell_type": "code",
   "execution_count": 24,
   "metadata": {},
   "outputs": [
    {
     "data": {
      "text/plain": [
       "[{'Student name': 'aiden',\n",
       "  'Student id': '124',\n",
       "  'Student DOB': '8-3',\n",
       "  'python': '10',\n",
       "  'signal': '10'},\n",
       " {'Student name': 'dat',\n",
       "  'Student id': '066',\n",
       "  'Student DOB': '19-11',\n",
       "  'python': '100',\n",
       "  'signal': '100'},\n",
       " {'Student name': 'phuong',\n",
       "  'Student id': '072',\n",
       "  'Student DOB': '7-2',\n",
       "  'python': '100',\n",
       "  'signal': '100'}]"
      ]
     },
     "execution_count": 24,
     "metadata": {},
     "output_type": "execute_result"
    }
   ],
   "source": [
    "student_list"
   ]
  },
  {
   "cell_type": "code",
   "execution_count": 14,
   "metadata": {},
   "outputs": [
    {
     "name": "stdout",
     "output_type": "stream",
     "text": [
      "python signal "
     ]
    }
   ],
   "source": [
    "for i in course_list:\n",
    "    print(i['Course name'], end=' ')"
   ]
  },
  {
   "cell_type": "code",
   "execution_count": 9,
   "metadata": {},
   "outputs": [
    {
     "name": "stdout",
     "output_type": "stream",
     "text": [
      "for student aiden \n",
      "Mark for python course 10\n",
      "Mark for signal course 10\n",
      "for student dat \n",
      "Mark for python course 100\n",
      "Mark for signal course 100\n",
      "for student phuong \n",
      "Mark for python course 100\n",
      "Mark for signal course 100\n"
     ]
    }
   ],
   "source": [
    "add_grad()"
   ]
  },
  {
   "cell_type": "code",
   "execution_count": 65,
   "metadata": {},
   "outputs": [
    {
     "name": "stdout",
     "output_type": "stream",
     "text": [
      "List of students: \n",
      "- aiden\n",
      "- dat\n",
      "- phuong\n",
      "\n",
      "\n",
      "List of courses: \n",
      "- python - signal \n",
      "\n",
      "Mark for a given courses: \n",
      " \n",
      "- aiden: \n",
      "    + python:10\n",
      "    + signal:10\n",
      " \n",
      "- dat: \n",
      "    + python:100\n",
      "    + signal:100\n",
      " \n",
      "- phuong: \n",
      "    + python:100\n",
      "    + signal:100\n"
     ]
    }
   ],
   "source": [
    "listing()"
   ]
  },
  {
   "cell_type": "code",
   "execution_count": null,
   "metadata": {},
   "outputs": [],
   "source": []
  }
 ],
 "metadata": {
  "kernelspec": {
   "display_name": "Python 3",
   "language": "python",
   "name": "python3"
  },
  "language_info": {
   "codemirror_mode": {
    "name": "ipython",
    "version": 3
   },
   "file_extension": ".py",
   "mimetype": "text/x-python",
   "name": "python",
   "nbconvert_exporter": "python",
   "pygments_lexer": "ipython3",
   "version": "3.8.5"
  }
 },
 "nbformat": 4,
 "nbformat_minor": 4
}
