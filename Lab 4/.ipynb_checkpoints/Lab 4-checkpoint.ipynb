{
 "cells": [
  {
   "cell_type": "code",
   "execution_count": 38,
   "metadata": {},
   "outputs": [],
   "source": [
    "class Input:\n",
    "    def __init__(self, stName=\"\", stId=\"\", stDob=\"\", courses=\"\"):\n",
    "        self.stName   = stName\n",
    "        self.stId    = stId\n",
    "        self.stDob    = stDob\n",
    "        self.courses = courses\n",
    "        self.student_list = []\n",
    "\n",
    "    def inputSt(self, name, stId, stDob, courses):\n",
    "        st = Input(name, stId, stDob, courses)\n",
    "        self.student_list.append(st)\n",
    "\n",
    "    def deleteSt(self, name):\n",
    "        for i in range(len(self.student_list)):\n",
    "            if name == self.student_list[i].stName:\n",
    "                print(f'student {name} is deleted')\n",
    "                del self.student_list[i]"
   ]
  },
  {
   "cell_type": "code",
   "execution_count": 39,
   "metadata": {},
   "outputs": [],
   "source": [
    "class Output:\n",
    "    def __init__(self, student_list=''):\n",
    "        self.student_list = student_list\n",
    "\n",
    "    def listSt(self, student_list):\n",
    "        for i in student_list:\n",
    "            print(f\"Name: {i.stName}\")\n",
    "            print(f\"Id: {i.stId}\")\n",
    "            print(f\"Date Of Birth: {i.stDob}\")\n",
    "            for j in range(len(i.courses)):\n",
    "                print(f\"Marks of {i.courses[j][0]} :\", i.courses[j][1])\n",
    "            print(\"************************************\")"
   ]
  },
  {
   "cell_type": "code",
   "execution_count": 42,
   "metadata": {},
   "outputs": [],
   "source": [
    "class domain:\n",
    "    def __init__(self):\n",
    "        pass\n",
    "    def execute(self):\n",
    "        st = Input('' ,'', '' ,  0)\n",
    "        st.inputSt('dat', 'bi9-066', '2000', (('Advanced Programming ','15'), ('French ','17'), ('Singal ','18')))\n",
    "        st.inputSt('Aiden', 'bi10-124', '2001', (('Advanced Programming ','17.5'),('French ','15.25'), ('Singal ','14.25')) )\n",
    "        st.inputSt('Na', 'bi10-010', '2001', (('Advanced Programming','16.75'),('French','18.04'), ('Signal', '20')) )\n",
    "        \n",
    "        display = Output(None)\n",
    "        display.listSt(st.student_list)"
   ]
  },
  {
   "cell_type": "code",
   "execution_count": 43,
   "metadata": {},
   "outputs": [
    {
     "name": "stdout",
     "output_type": "stream",
     "text": [
      "Name: Aiden\n",
      "Id: bi10-124\n",
      "Date Of Birth: 2001\n",
      "Marks of Advanced Programming  : 17.5\n",
      "Marks of French  : 15.25\n",
      "Marks of Singal  : 14.25\n",
      "Marks of Basic Database : 17.25\n",
      "************************************\n",
      "Name: Na\n",
      "Id: bi10-010\n",
      "Date Of Birth: 2001\n",
      "Marks of Advanced Programming : 16.75\n",
      "Marks of Chemistry : 12.25\n",
      "Marks of Web Dev : 19\n",
      "************************************\n"
     ]
    }
   ],
   "source": [
    "if __name__ == \"__main__\":\n",
    "    main = domain()\n",
    "    main.execute()"
   ]
  },
  {
   "cell_type": "code",
   "execution_count": 36,
   "metadata": {},
   "outputs": [],
   "source": [
    "obj = Input('' ,'', '' ,  0)\n",
    "obj.inputSt('Aiden', 'bi10-124', '2001', (('Advanced Programming ','17.5'),('French ','15.25'), ('Singal ','14.25'), ('Basic Database','17.25')) )\n",
    "obj.inputSt('Na', 'bi10-010', '2001', (('Advanced Programming','16.75'),('Chemistry','12.25'), ('Web Dev', '19')) )"
   ]
  },
  {
   "cell_type": "code",
   "execution_count": 37,
   "metadata": {},
   "outputs": [
    {
     "name": "stdout",
     "output_type": "stream",
     "text": [
      "Name: Aiden\n",
      "Id: bi10-124\n",
      "Date Of Birth: 2001\n",
      "Marks of Advanced Programming  : 17.5\n",
      "Marks of French  : 15.25\n",
      "Marks of Singal  : 14.25\n",
      "Marks of Basic Database : 17.25\n",
      "************************************\n",
      "Name: Na\n",
      "Id: bi10-010\n",
      "Date Of Birth: 2001\n",
      "Marks of Advanced Programming : 16.75\n",
      "Marks of Chemistry : 12.25\n",
      "Marks of Web Dev : 19\n",
      "************************************\n"
     ]
    }
   ],
   "source": [
    "display = Output(None)\n",
    "display.listSt(obj.student_list)"
   ]
  },
  {
   "cell_type": "code",
   "execution_count": null,
   "metadata": {},
   "outputs": [],
   "source": []
  }
 ],
 "metadata": {
  "kernelspec": {
   "display_name": "Python 3",
   "language": "python",
   "name": "python3"
  },
  "language_info": {
   "codemirror_mode": {
    "name": "ipython",
    "version": 3
   },
   "file_extension": ".py",
   "mimetype": "text/x-python",
   "name": "python",
   "nbconvert_exporter": "python",
   "pygments_lexer": "ipython3",
   "version": "3.8.5"
  }
 },
 "nbformat": 4,
 "nbformat_minor": 4
}
